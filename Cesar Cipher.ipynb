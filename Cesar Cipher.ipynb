{
 "cells": [
  {
   "cell_type": "code",
   "execution_count": 165,
   "id": "75da58b3",
   "metadata": {},
   "outputs": [],
   "source": [
    "import unittest\n",
    "import string"
   ]
  },
  {
   "cell_type": "code",
   "execution_count": 166,
   "id": "680b33b4",
   "metadata": {},
   "outputs": [],
   "source": [
    "def encrypt(message):\n",
    "    \n",
    "    abc=string.ascii_letters+string.punctuation+string.digits+ \" \"\n",
    "    #list of comprehansion\n",
    "    encrypted_message = \"\".join([ abc[abc.find(char)+1] if len(abc) > (abc.find(char)+1) else abc[0] for idx,  char in enumerate(message) ])\n",
    "    return encrypted_message"
   ]
  },
  {
   "cell_type": "code",
   "execution_count": 167,
   "id": "1c158f86",
   "metadata": {},
   "outputs": [],
   "source": [
    "class TestEncription(unittest.TestCase):\n",
    "    \n",
    "    def setUp(self):\n",
    "        self.my_message=\"bananafana tulana!!21\"\n",
    "    \n",
    "    #if exist\n",
    "    def test_imputExist(self):\n",
    "        self.assertIsNotNone(self.my_message)\n",
    "    \n",
    "    #if string    \n",
    "    def test_inputType(self):\n",
    "        self.assertIsInstance(self.my_message, str)\n",
    "    \n",
    "    #If Empty\n",
    "    def test_imputReturnsValue(self):\n",
    "        self.assertIsNotNone(encrypt(self.my_message)  )\n",
    "   \n",
    "    #if input == output    \n",
    "    def test_inputIO(self):\n",
    "        self.assertEqual(len(self.my_message),len(encrypt(self.my_message)))      \n",
    "        \n",
    "    def test_differentIO(self):\n",
    "        self.assertNotIn((self.my_message),encrypt(self.my_message))\n",
    "        \n",
    "    #if string    \n",
    "    def test_outputType(self):\n",
    "        self.assertIsInstance(encrypt(self.my_message), str)\n",
    "\n",
    "    #if string    \n",
    "    def test_shiftedCipher(self):\n",
    "        abc=string.ascii_letters+string.punctuation+string.digits+ \" \"\n",
    "        encrypted_message = \"\".join([ abc[abc.find(char)+1] if len(abc) > (abc.find(char)+1) else abc[0]  for idx,  char in enumerate(self.my_message) ])\n",
    "        print(encrypted_message)\n",
    "        self.assertEqual(encrypted_message,encrypt(self.my_message))"
   ]
  },
  {
   "cell_type": "code",
   "execution_count": 168,
   "id": "f97f2ce8",
   "metadata": {},
   "outputs": [
    {
     "name": "stderr",
     "output_type": "stream",
     "text": [
      "test_differentIO (__main__.TestEncription) ... ok\n",
      "test_imputExist (__main__.TestEncription) ... ok\n",
      "test_imputReturnsValue (__main__.TestEncription) ... ok\n",
      "test_inputIO (__main__.TestEncription) ... ok\n",
      "test_inputType (__main__.TestEncription) ... ok\n",
      "test_outputType (__main__.TestEncription) ... ok\n",
      "test_shiftedCipher (__main__.TestEncription) ... ok\n",
      "\n",
      "----------------------------------------------------------------------\n",
      "Ran 7 tests in 0.009s\n",
      "\n",
      "OK\n"
     ]
    },
    {
     "name": "stdout",
     "output_type": "stream",
     "text": [
      "cbobobgbobauvmbob\"\"32\n"
     ]
    },
    {
     "data": {
      "text/plain": [
       "<unittest.main.TestProgram at 0x1b6a8f7c910>"
      ]
     },
     "execution_count": 168,
     "metadata": {},
     "output_type": "execute_result"
    }
   ],
   "source": [
    "unittest.main(argv=[''], verbosity=2, exit=False)"
   ]
  },
  {
   "cell_type": "code",
   "execution_count": null,
   "id": "4a7b6c7c",
   "metadata": {},
   "outputs": [],
   "source": []
  },
  {
   "cell_type": "code",
   "execution_count": null,
   "id": "844a9584",
   "metadata": {},
   "outputs": [],
   "source": []
  }
 ],
 "metadata": {
  "kernelspec": {
   "display_name": "Python 3 (ipykernel)",
   "language": "python",
   "name": "python3"
  },
  "language_info": {
   "codemirror_mode": {
    "name": "ipython",
    "version": 3
   },
   "file_extension": ".py",
   "mimetype": "text/x-python",
   "name": "python",
   "nbconvert_exporter": "python",
   "pygments_lexer": "ipython3",
   "version": "3.9.13"
  }
 },
 "nbformat": 4,
 "nbformat_minor": 5
}
